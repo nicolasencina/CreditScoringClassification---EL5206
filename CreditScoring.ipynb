{
 "cells": [
  {
   "cell_type": "code",
   "execution_count": 160,
   "metadata": {
    "collapsed": false
   },
   "outputs": [
    {
     "name": "stdout",
     "output_type": "stream",
     "text": [
      "GENERO\n",
      "RENTA\n",
      "EDAD\n",
      "NIV_EDUC\n",
      "E_CIVIL\n",
      "COD_OFI\n",
      "COD_COM\n",
      "CIUDAD\n",
      "Crédito_1\n",
      "Crédito_2\n",
      "Crédito_3\n",
      "Crédito_4\n",
      "Monto solicitado\n",
      "Días de Mora\n",
      "Monto Deuda Promedio\n",
      "Número de meses inactivo\n",
      "numero de cuotas\n",
      "Aval\n",
      "PAGA\n"
     ]
    }
   ],
   "source": [
    "import openpyxl\n",
    "import numpy as np\n",
    "from sklearn import preprocessing\n",
    "\n",
    "## Abrir Excel con Datos\n",
    "file_train = 'CREDITRISK_RAW.xlsx'\n",
    "wb = openpyxl.load_workbook(file_train)\n",
    "sheet = wb.get_sheet_by_name('Sheet1')\n",
    "sheet = wb.active\n",
    "\n",
    "# Forma matriz para contener datos\n",
    "columns = 20\n",
    "rows = 2294\n",
    "data_matrix = np.zeros(shape=(rows, columns))\n",
    "\n",
    "# Columnas con datos no numericos, se deben pasar a labels numericos usando un LabelEncoder\n",
    "non_numerical_columns = [1, 4, 5, 8, 18, 19]  ##\n",
    "non_numerical_info = []\n",
    "clases = []\n",
    "clases_num_encode = []\n",
    "features_names = []\n",
    "empty_cell = sheet.cell(row=85, column=8).value  ## Ejemplo de celda vacia\n",
    "\n",
    "for i in range(columns):\n",
    "    j = 0\n",
    "    column_i = []\n",
    "    \n",
    "    flag_non_numeric = False\n",
    "    flag_append = True\n",
    "    \n",
    "    # Verificar si la columna es de datos no numericos\n",
    "    if i in non_numerical_columns:\n",
    "        flag_non_numeric = True\n",
    "            \n",
    "    for cellObj in sheet.columns[i]:\n",
    "        if j > 0:\n",
    "            if (cellObj.value == empty_cell) and (not flag_non_numeric):\n",
    "            #if (cellObj.value == empty_cell):\n",
    "                #flag_append = False\n",
    "                column_i.append(0)\n",
    "            else:\n",
    "                column_i.append(cellObj.value)\n",
    "        \n",
    "        else:\n",
    "            name = cellObj.value\n",
    "            if i>0:\n",
    "                features_names.append(name)\n",
    "            print name\n",
    "            \n",
    "            \n",
    "        j += 1\n",
    "    \n",
    "    \n",
    "    if flag_non_numeric:\n",
    "        le = preprocessing.LabelEncoder()\n",
    "        le.fit(column_i)\n",
    "        clases.append(list(le.classes_))  \n",
    "        non_numerical_info.append(sheet.cell(row=1, column=i+1).value)\n",
    "        \n",
    "        # Encode de datos\n",
    "        column_i = le.transform(column_i)\n",
    "      \n",
    "    if flag_append:\n",
    "        data_matrix[:,i] = column_i\n",
    "    else:\n",
    "        print name + \" no added\"\n",
    "\n",
    "   "
   ]
  },
  {
   "cell_type": "code",
   "execution_count": 123,
   "metadata": {
    "collapsed": false
   },
   "outputs": [
    {
     "name": "stdout",
     "output_type": "stream",
     "text": [
      "[ 1.  1.  2.  2.  1.  3.  1.  1.  1.  1.]\n"
     ]
    }
   ],
   "source": [
    "## Calculo de caracteristicas\n",
    "\n"
   ]
  },
  {
   "cell_type": "code",
   "execution_count": 161,
   "metadata": {
    "collapsed": false
   },
   "outputs": [],
   "source": [
    "# Eliminar NaN values\n",
    "from sklearn.preprocessing import Imputer\n",
    "\n",
    "imp = Imputer(missing_values='NaN', strategy='mean', axis=0)\n",
    "imp.fit(data_matrix)\n",
    "\n",
    "data_matrix = imp.transform(data_matrix)"
   ]
  },
  {
   "cell_type": "code",
   "execution_count": 171,
   "metadata": {
    "collapsed": false
   },
   "outputs": [
    {
     "name": "stdout",
     "output_type": "stream",
     "text": [
      "Feature ranking:\n",
      "1. EDAD: 0.160861334388\n",
      "2. GENERO: 0.10578191966\n",
      "3. NIV_EDUC: 0.104494906601\n",
      "4. COD_COM: 0.100668214054\n",
      "5. COD_OFI: 0.0996202347017\n",
      "6. Crédito_4: 0.0605590843648\n",
      "7. Número de meses inactivo: 0.0561374296644\n",
      "8. RENTA: 0.0543864405807\n",
      "9. CIUDAD: 0.0437600232072\n",
      "10. numero de cuotas: 0.0393290667466\n",
      "11. Monto solicitado: 0.0387649799297\n",
      "12. Crédito_2: 0.0344274156434\n",
      "13. Monto Deuda Promedio: 0.0323719650356\n",
      "14. E_CIVIL: 0.0320812805394\n",
      "15. Días de Mora: 0.0140215743332\n",
      "16. Crédito_1: 0.0127811692376\n",
      "17. Aval: 0.00625667781994\n",
      "18. Crédito_3: 0.00369628349276\n"
     ]
    },
    {
     "data": {
      "image/png": "[encoded data removed]",
      "text/plain": [
       "<matplotlib.figure.Figure at 0xdca6710>"
      ]
     },
     "metadata": {},
     "output_type": "display_data"
    },
    {
     "ename": "NameError",
     "evalue": "name 'time' is not defined",
     "output_type": "error",
     "traceback": [
      "\u001b[0;31m---------------------------------------------------------------------------\u001b[0m",
      "\u001b[0;31mNameError\u001b[0m                                 Traceback (most recent call last)",
      "\u001b[0;32m<ipython-input-171-3004de371971>\u001b[0m in \u001b[0;36m<module>\u001b[0;34m()\u001b[0m\n\u001b[1;32m     45\u001b[0m \u001b[1;33m\u001b[0m\u001b[0m\n\u001b[1;32m     46\u001b[0m \u001b[1;33m\u001b[0m\u001b[0m\n\u001b[0;32m---> 47\u001b[0;31m \u001b[0mt0\u001b[0m \u001b[1;33m=\u001b[0m \u001b[0mtime\u001b[0m\u001b[1;33m(\u001b[0m\u001b[1;33m)\u001b[0m\u001b[1;33m\u001b[0m\u001b[0m\n\u001b[0m\u001b[1;32m     48\u001b[0m \u001b[0mpred\u001b[0m \u001b[1;33m=\u001b[0m \u001b[0mclf\u001b[0m\u001b[1;33m.\u001b[0m\u001b[0mpredict\u001b[0m\u001b[1;33m(\u001b[0m\u001b[0mX_test\u001b[0m\u001b[1;33m)\u001b[0m\u001b[1;33m\u001b[0m\u001b[0m\n\u001b[1;32m     49\u001b[0m \u001b[0mtest_time\u001b[0m \u001b[1;33m=\u001b[0m \u001b[0mtime\u001b[0m\u001b[1;33m(\u001b[0m\u001b[1;33m)\u001b[0m \u001b[1;33m-\u001b[0m \u001b[0mt0\u001b[0m\u001b[1;33m\u001b[0m\u001b[0m\n",
      "\u001b[0;31mNameError\u001b[0m: name 'time' is not defined"
     ]
    }
   ],
   "source": [
    "import numpy as np\n",
    "%matplotlib inline\n",
    "import matplotlib.pylab as plt\n",
    "\n",
    "from sklearn.cross_validation import train_test_split\n",
    "from sklearn.model_selection import cross_val_score\n",
    "from sklearn.datasets import make_blobs\n",
    "from sklearn.ensemble import RandomForestClassifier, GradientBoostingClassifier\n",
    "from sklearn.ensemble import ExtraTreesClassifier\n",
    "from sklearn.tree import DecisionTreeClassifier\n",
    "\n",
    "N_features = (columns - 1) # Se resta ID y Label, PAGA o NO PAGA\n",
    "X = data_matrix[:,1:N_features]\n",
    "Y = data_matrix[:,columns - 1]\n",
    "\n",
    "\n",
    "X_train, X_test, Y_train, Y_test = train_test_split(X, Y, train_size=0.25, random_state = True)\n",
    "\n",
    "clf = RandomForestClassifier(n_estimators=650, max_depth=None, bootstrap = True, n_jobs = -1)\n",
    "clf.fit(X_train, Y_train)\n",
    "Y_pred = clf.predict_proba(X_test)\n",
    "\n",
    "\n",
    "importances = clf.feature_importances_\n",
    "std = np.std([tree.feature_importances_ for tree in clf.estimators_],\n",
    "             axis=0)\n",
    "indices = np.argsort(importances)[::-1]\n",
    "\n",
    "# Print the feature ranking\n",
    "print(\"Feature ranking:\")\n",
    "\n",
    "for f in range(X.shape[1]):\n",
    "    \n",
    "    #print(\"%d. feature %d (%f)\" % (f + 1, indices[f], importances[indices[f]]))\n",
    "    print str(f+1)+\". \"+ features_names[indices[f]] + \": \"+str(importances[indices[f]])\n",
    "    \n",
    "# Plot the feature importances of the forest\n",
    "plt.figure()\n",
    "plt.title(\"Feature importances\")\n",
    "plt.bar(range(X_test.shape[1]), importances[indices],\n",
    "       color=\"r\", align=\"center\")\n",
    "#plt.xticks(range(X_test.shape[1]), indices)\n",
    "plt.xlim([-1, X_test.shape[1]])\n",
    "plt.show()\n"
   ]
  },
  {
   "cell_type": "code",
   "execution_count": 174,
   "metadata": {
    "collapsed": false
   },
   "outputs": [
    {
     "name": "stdout",
     "output_type": "stream",
     "text": [
      "test time:  0.835s\n",
      "0.932597327135\n"
     ]
    }
   ],
   "source": [
    "from time import time\n",
    "from sklearn import metrics\n",
    "t0 = time()\n",
    "pred = clf.predict(X_test)\n",
    "test_time = time() - t0\n",
    "print(\"test time:  %0.3fs\" % test_time)\n",
    "\n",
    "score = metrics.accuracy_score(Y_test, pred)\n",
    "print score"
   ]
  },
  {
   "cell_type": "code",
   "execution_count": null,
   "metadata": {
    "collapsed": true
   },
   "outputs": [],
   "source": []
  }
 ],
 "metadata": {
  "anaconda-cloud": {},
  "kernelspec": {
   "display_name": "Python [conda root]",
   "language": "python",
   "name": "conda-root-py"
  },
  "language_info": {
   "codemirror_mode": {
    "name": "ipython",
    "version": 2
   },
   "file_extension": ".py",
   "mimetype": "text/x-python",
   "name": "python",
   "nbconvert_exporter": "python",
   "pygments_lexer": "ipython2",
   "version": "2.7.12"
  }
 },
 "nbformat": 4,
 "nbformat_minor": 1
}
