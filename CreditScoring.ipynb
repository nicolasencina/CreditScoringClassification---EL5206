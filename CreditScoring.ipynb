{
 "cells": [
  {
   "cell_type": "code",
   "execution_count": 111,
   "metadata": {
    "collapsed": false
   },
   "outputs": [
    {
     "name": "stdout",
     "output_type": "stream",
     "text": [
      "ID\n",
      "GENERO\n",
      "RENTA\n",
      "EDAD\n",
      "NIV_EDUC\n",
      "E_CIVIL\n",
      "COD_OFI\n",
      "COD_COM\n",
      "CIUDAD\n",
      "Crédito_1\n",
      "Crédito_2\n",
      "Crédito_3\n",
      "Crédito_4\n",
      "Monto solicitado\n",
      "Días de Mora\n",
      "Monto Deuda Promedio\n",
      "Número de meses inactivo\n",
      "numero de cuotas\n",
      "Aval\n",
      "PAGA\n"
     ]
    }
   ],
   "source": [
    "import openpyxl\n",
    "import numpy as np\n",
    "from sklearn import preprocessing\n",
    "\n",
    "## Abrir Excel con Datos\n",
    "file_train = 'CREDITRISK_RAW.xlsx'\n",
    "wb = openpyxl.load_workbook(file_train)\n",
    "sheet = wb.get_sheet_by_name('Sheet1')\n",
    "sheet = wb.active\n",
    "\n",
    "# Forma matriz para contener datos\n",
    "columns = 20\n",
    "rows = 2294\n",
    "data_matrix = np.zeros(shape=(rows, columns))\n",
    "\n",
    "# Columnas con datos no numericos, se deben pasar a labels numericos usando un LabelEncoder\n",
    "non_numerical_columns = [1, 4, 5, 8, 18, 19]  ##\n",
    "non_numerical_info = []\n",
    "clases = []\n",
    "clases_num_encode = []\n",
    "empty_cell = sheet.cell(row=85, column=8).value  ## Ejemplo de celda vacia\n",
    "\n",
    "for i in range(columns):\n",
    "    j = 0\n",
    "    column_i = []\n",
    "    \n",
    "    flag_non_numeric = False\n",
    "    flag_append = True\n",
    "    \n",
    "    # Verificar si la columna es de datos no numericos\n",
    "    if i in non_numerical_columns:\n",
    "        flag_non_numeric = True\n",
    "            \n",
    "    for cellObj in sheet.columns[i]:\n",
    "        if j > 0:\n",
    "            if (cellObj.value == empty_cell) and (not flag_non_numeric):\n",
    "                #flag_append = False\n",
    "                column_i.append(0)\n",
    "            else:\n",
    "                column_i.append(cellObj.value)\n",
    "        \n",
    "        else:\n",
    "            name = cellObj.value\n",
    "            print name\n",
    "            \n",
    "        j += 1\n",
    "    \n",
    "    \n",
    "    if flag_non_numeric:\n",
    "        le = preprocessing.LabelEncoder()\n",
    "        le.fit(column_i)\n",
    "        clases.append(list(le.classes_))  \n",
    "        non_numerical_info.append(sheet.cell(row=1, column=i+1).value)\n",
    "        \n",
    "        # Encode de datos\n",
    "        column_i = le.transform(column_i)\n",
    "      \n",
    "    if flag_append:\n",
    "        data_matrix[:,i] = column_i\n",
    "    else:\n",
    "        print name + \" no added\"\n",
    "\n",
    "   "
   ]
  }
 ],
 "metadata": {
  "anaconda-cloud": {},
  "kernelspec": {
   "display_name": "Python [conda root]",
   "language": "python",
   "name": "conda-root-py"
  },
  "language_info": {
   "codemirror_mode": {
    "name": "ipython",
    "version": 2
   },
   "file_extension": ".py",
   "mimetype": "text/x-python",
   "name": "python",
   "nbconvert_exporter": "python",
   "pygments_lexer": "ipython2",
   "version": "2.7.12"
  }
 },
 "nbformat": 4,
 "nbformat_minor": 1
}
