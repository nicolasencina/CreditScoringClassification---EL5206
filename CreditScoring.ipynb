{
 "cells": [
  {
   "cell_type": "code",
   "execution_count": 1,
   "metadata": {
    "collapsed": false
   },
   "outputs": [
    {
     "name": "stdout",
     "output_type": "stream",
     "text": [
      "ID\n",
      "GENERO\n",
      "RENTA\n",
      "EDAD\n",
      "NIV_EDUC\n",
      "E_CIVIL\n",
      "COD_OFI\n",
      "COD_COM\n",
      "CIUDAD\n",
      "Crédito_1\n",
      "Crédito_2\n",
      "Crédito_3\n",
      "Crédito_4\n",
      "Monto solicitado\n",
      "Días de Mora\n",
      "Monto Deuda Promedio\n",
      "Número de meses inactivo\n",
      "numero de cuotas\n",
      "Aval\n",
      "PAGA\n"
     ]
    }
   ],
   "source": [
    "import openpyxl\n",
    "import numpy as np\n",
    "from sklearn import preprocessing\n",
    "\n",
    "## Abrir Excel con Datos\n",
    "file_train = 'CREDITRISK_RAW.xlsx'\n",
    "wb = openpyxl.load_workbook(file_train)\n",
    "sheet = wb.get_sheet_by_name('Sheet1')\n",
    "sheet = wb.active\n",
    "\n",
    "# Forma matriz para contener datos\n",
    "columns = 20\n",
    "rows = 2294\n",
    "data_matrix = np.zeros(shape=(rows, columns))\n",
    "\n",
    "# Columnas con datos no numericos, se deben pasar a labels numericos usando un LabelEncoder\n",
    "non_numerical_columns = [1, 4, 5, 8, 18, 19]  ##\n",
    "non_numerical_info = []\n",
    "clases = []\n",
    "clases_num_encode = []\n",
    "features_names = []\n",
    "empty_cell = sheet.cell(row=85, column=8).value  ## Ejemplo de celda vacia\n",
    "\n",
    "for i in range(columns):\n",
    "    j = 0\n",
    "    column_i = []\n",
    "    \n",
    "    flag_non_numeric = False\n",
    "    flag_append = True\n",
    "    \n",
    "    # Verificar si la columna es de datos no numericos\n",
    "    if i in non_numerical_columns:\n",
    "        flag_non_numeric = True\n",
    "            \n",
    "    for cellObj in sheet.columns[i]:\n",
    "        if j > 0:\n",
    "            if (cellObj.value == empty_cell) and (not flag_non_numeric):\n",
    "            #if (cellObj.value == empty_cell):\n",
    "                #flag_append = False\n",
    "                column_i.append(0)\n",
    "            else:\n",
    "                column_i.append(cellObj.value)\n",
    "        \n",
    "        else:\n",
    "            name = cellObj.value\n",
    "            if i>0:\n",
    "                features_names.append(name)\n",
    "            print name\n",
    "            \n",
    "            \n",
    "        j += 1\n",
    "    \n",
    "    \n",
    "    if flag_non_numeric:\n",
    "        le = preprocessing.LabelEncoder()\n",
    "        le.fit(column_i)\n",
    "        clases.append(list(le.classes_))  \n",
    "        non_numerical_info.append(sheet.cell(row=1, column=i+1).value)\n",
    "        \n",
    "        # Encode de datos\n",
    "        column_i = le.transform(column_i)\n",
    "      \n",
    "    if flag_append:\n",
    "        data_matrix[:,i] = column_i\n",
    "    else:\n",
    "        print name + \" no added\"\n",
    "\n",
    "   "
   ]
  },
  {
   "cell_type": "code",
   "execution_count": 3,
   "metadata": {
    "collapsed": false
   },
   "outputs": [],
   "source": [
    "# Eliminar NaN values\n",
    "from sklearn.preprocessing import Imputer\n",
    "\n",
    "imp = Imputer(missing_values='NaN', strategy='mean', axis=0)\n",
    "imp.fit(data_matrix)\n",
    "\n",
    "data_matrix = imp.transform(data_matrix)"
   ]
  },
  {
   "cell_type": "code",
   "execution_count": null,
   "metadata": {
    "collapsed": true
   },
   "outputs": [],
   "source": [
    "## Calculo de caracteristicas\n",
    "\n"
   ]
  },
  {
   "cell_type": "code",
   "execution_count": 6,
   "metadata": {
    "collapsed": false
   },
   "outputs": [
    {
     "name": "stdout",
     "output_type": "stream",
     "text": [
      "Feature ranking:\n",
      "1. EDAD: 0.188555876258\n",
      "2. GENERO: 0.137524928994\n",
      "3. COD_COM: 0.101180882734\n",
      "4. NIV_EDUC: 0.0951679711902\n",
      "5. COD_OFI: 0.0832322728549\n",
      "6. Número de meses inactivo: 0.0671194079343\n",
      "7. RENTA: 0.0490356122475\n",
      "8. Crédito_4: 0.0463793773083\n",
      "9. CIUDAD: 0.0425602446205\n",
      "10. E_CIVIL: 0.0352213530872\n",
      "11. numero de cuotas: 0.0347514815642\n",
      "12. Crédito_2: 0.0329877197629\n",
      "13. Monto solicitado: 0.0310008544174\n",
      "14. Monto Deuda Promedio: 0.0257301814194\n",
      "15. Días de Mora: 0.0115182294304\n",
      "16. Crédito_1: 0.0101524730149\n",
      "17. Aval: 0.00604757787116\n",
      "18. Crédito_3: 0.00183355529016\n"
     ]
    },
    {
     "data": {
      "image/png": "[encoded data removed]",
      "text/plain": [
       "<matplotlib.figure.Figure at 0xba7f710>"
      ]
     },
     "metadata": {},
     "output_type": "display_data"
    }
   ],
   "source": [
    "## Random Forest\n",
    "\n",
    "%matplotlib inline\n",
    "import matplotlib.pylab as plt\n",
    "\n",
    "from sklearn.cross_validation import train_test_split\n",
    "from sklearn.model_selection import cross_val_score\n",
    "from sklearn.datasets import make_blobs\n",
    "from sklearn.ensemble import RandomForestClassifier, GradientBoostingClassifier\n",
    "from sklearn.ensemble import ExtraTreesClassifier\n",
    "from sklearn.tree import DecisionTreeClassifier\n",
    "\n",
    "N_features = (columns - 1) # Se resta ID y Label, PAGA o NO PAGA\n",
    "X = data_matrix[:,1:N_features]\n",
    "Y = data_matrix[:,columns - 1]\n",
    "X_train, X_test, Y_train, Y_test = train_test_split(X, Y, train_size=0.5, random_state = True)\n",
    "\n",
    "\n",
    "clf = RandomForestClassifier(n_estimators=650, max_depth=None, bootstrap = True, n_jobs = -1)\n",
    "clf.fit(X_train, Y_train)\n",
    "Y_pred = clf.predict_proba(X_test)\n",
    "\n",
    "\n",
    "importances = clf.feature_importances_\n",
    "std = np.std([tree.feature_importances_ for tree in clf.estimators_],\n",
    "             axis=0)\n",
    "indices = np.argsort(importances)[::-1]\n",
    "\n",
    "# Print the feature ranking\n",
    "print(\"Feature ranking:\")\n",
    "\n",
    "for f in range(X.shape[1]):\n",
    "    \n",
    "    #print(\"%d. feature %d (%f)\" % (f + 1, indices[f], importances[indices[f]]))\n",
    "    print str(f+1)+\". \"+ features_names[indices[f]] + \": \"+str(importances[indices[f]])\n",
    "    \n",
    "# Plot the feature importances of the forest\n",
    "plt.figure()\n",
    "plt.title(\"Feature importances\")\n",
    "plt.bar(range(X_test.shape[1]), importances[indices],\n",
    "       color=\"r\", align=\"center\")\n",
    "#plt.xticks(range(X_test.shape[1]), indices)\n",
    "plt.xlim([-1, X_test.shape[1]])\n",
    "plt.show()\n"
   ]
  },
  {
   "cell_type": "code",
   "execution_count": 7,
   "metadata": {
    "collapsed": false
   },
   "outputs": [
    {
     "name": "stdout",
     "output_type": "stream",
     "text": [
      "test time:  0.836s\n",
      "0.935483870968\n"
     ]
    }
   ],
   "source": [
    "from time import time\n",
    "from sklearn import metrics\n",
    "t0 = time()\n",
    "pred = clf.predict(X_test)\n",
    "test_time = time() - t0\n",
    "print(\"test time:  %0.3fs\" % test_time)\n",
    "\n",
    "score = metrics.accuracy_score(Y_test, pred)\n",
    "print score"
   ]
  },
  {
   "cell_type": "code",
   "execution_count": 116,
   "metadata": {
    "collapsed": false
   },
   "outputs": [
    {
     "name": "stdout",
     "output_type": "stream",
     "text": [
      "[22.0, 24.0, 26.0, 28.0, 30.0, 32.0, 34.0, 36.0, 38.0, 40.0, 42.0, 44.0, 46.0, 48.0, 50.0, 52.0, 54.0, 56.0, 58.0]\n"
     ]
    },
    {
     "data": {
      "image/png": "[encoded data removed]",
      "text/plain": [
       "<matplotlib.figure.Figure at 0x10482518>"
      ]
     },
     "metadata": {},
     "output_type": "display_data"
    },
    {
     "data": {
      "image/png": "[encoded data removed]",
      "text/plain": [
       "<matplotlib.figure.Figure at 0x112ce940>"
      ]
     },
     "metadata": {},
     "output_type": "display_data"
    }
   ],
   "source": [
    "#Graficos en base a las caracteristicas más importantes según Random Forest\n",
    "\n",
    "class Histogram:\n",
    "    \n",
    "    def __init__(self, data_matrix, feature_index, name):\n",
    "        self.name = name\n",
    "        self.index = feature_index\n",
    "        self.data = np.zeros(shape=(rows, 2))\n",
    "        \n",
    "        _columns = len(data_matrix[0,:])\n",
    "        self.data[:,0] = data_matrix[:, self.index]\n",
    "        self.data[:,1] = data_matrix[:, _columns - 1]\n",
    "        \n",
    "        _N_datos = len(self.data[:,0])\n",
    "        self.convert_data = np.zeros( shape = (_N_datos, 2))\n",
    "    \n",
    "        _Paga = 1;\n",
    "        _NoPaga = 0;\n",
    "\n",
    "        self.paga_hist = []\n",
    "        self.no_paga_hist = []\n",
    "\n",
    "        for i in range(_N_datos):\n",
    "            if self.data[i,1] == _Paga:\n",
    "                self.paga_hist.append( self.data[i,0])\n",
    "            else:\n",
    "                self.no_paga_hist.append( self.data[i,0])\n",
    "\n",
    "    def set_bins(self, init_range, final_range, nbins):\n",
    "        self.bins = plt.linspace(init_range, final_range, nbins)\n",
    "        self.nbins = nbins\n",
    "    \n",
    "    \n",
    "    def hist(self):\n",
    "        _paid = self.paga_hist\n",
    "        _no_paid = self.no_paga_hist\n",
    "            \n",
    "        x = [_paid, _no_paid]\n",
    "        self.histo = plt.hist(x, self.bins)\n",
    "        \n",
    "        _to_bar_1 = self.histo[0][0]\n",
    "        _to_bar_2 = self.histo[0][1]\n",
    "\n",
    "        # Create the general blog and the \"subplots\" i.e. the bars\n",
    "        f, ax1 = plt.subplots(1, figsize=(10,5))\n",
    "\n",
    "        # Set the bar width\n",
    "        bar_width = 0.75\n",
    "\n",
    "        # positions of the left bar-boundaries\n",
    "        #bar_l = [(i+1)*2.5 for i in range(len(_to_bar_1))] #+ self.bins[0]\n",
    "        bar_l = [self.bins[0] + (i+1)*(self.bins[self.nbins-1] - self.bins[0])/(self.nbins) for i in range(len(_to_bar_1))]\n",
    "        print [self.bins[0] + (i+1)*(self.bins[self.nbins-1] - self.bins[0])/(self.nbins) for i in range(len(_to_bar_1))] \n",
    "        \n",
    "        # positions of the x-axis ticks (center of the bars as bar labels)\n",
    "        tick_pos = [i+(bar_width/2) for i in bar_l] #+ self.bins[0] \n",
    "\n",
    "        # Create a bar plot, in position bar_1\n",
    "        ax1.bar(bar_l,\n",
    "                # using the pre_score data\n",
    "                _to_bar_1,\n",
    "                # set the width\n",
    "                width=bar_width,\n",
    "                # with the label pre score\n",
    "                label='Paga',\n",
    "                # with alpha 0.5\n",
    "                alpha=0.5,\n",
    "                # with color\n",
    "                color='#808000')\n",
    "\n",
    "        # Create a bar plot, in position bar_1\n",
    "        ax1.bar(bar_l,\n",
    "                # using the mid_score data\n",
    "                _to_bar_2,\n",
    "                # set the width\n",
    "                width=bar_width,\n",
    "                # with pre_score on the bottom\n",
    "                bottom=_to_bar_1,\n",
    "                # with the label mid score\n",
    "                label='No paga',\n",
    "                # with alpha 0.5\n",
    "                alpha=0.5,\n",
    "                # with color\n",
    "                color='#4b0082')\n",
    "        \n",
    "        # Set the label and legends\n",
    "        ax1.set_ylabel(\"Total Score\")\n",
    "        ax1.set_xlabel(self.name)\n",
    "        plt.legend(loc='upper left')\n",
    "\n",
    "        # Set a buffer around the edge\n",
    "        #plt.xlim([min(tick_pos)-bar_width, max(tick_pos)+bar_width])\n",
    "        \n",
    "\n",
    "## EDAD ##\n",
    "a = Histogram(data_matrix, 3, \"Edad\")\n",
    "a.set_bins(20,60, 20) ## DE 20 a 60 años, 20 intervalos\n",
    "a.hist()\n",
    "\n"
   ]
  }
 ],
 "metadata": {
  "anaconda-cloud": {},
  "kernelspec": {
   "display_name": "Python [conda root]",
   "language": "python",
   "name": "conda-root-py"
  },
  "language_info": {
   "codemirror_mode": {
    "name": "ipython",
    "version": 2
   },
   "file_extension": ".py",
   "mimetype": "text/x-python",
   "name": "python",
   "nbconvert_exporter": "python",
   "pygments_lexer": "ipython2",
   "version": "2.7.12"
  }
 },
 "nbformat": 4,
 "nbformat_minor": 1
}
